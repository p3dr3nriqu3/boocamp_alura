{
  "nbformat": 4,
  "nbformat_minor": 0,
  "metadata": {
    "colab": {
      "name": "Pedro_Henrique_Desafio_Modulo1.ipynb",
      "provenance": [],
      "collapsed_sections": [],
      "mount_file_id": "https://github.com/p3dr3nriqu3/boocamp_alura/blob/main/Pedro_Henrique_Desafio_Modulo1.ipynb",
      "authorship_tag": "ABX9TyOj/P5+ymMjlyv/U8Gc6UGh",
      "include_colab_link": true
    },
    "kernelspec": {
      "name": "python3",
      "display_name": "Python 3"
    }
  },
  "cells": [
    {
      "cell_type": "markdown",
      "metadata": {
        "id": "view-in-github",
        "colab_type": "text"
      },
      "source": [
        "<a href=\"https://colab.research.google.com/github/p3dr3nriqu3/boocamp_alura/blob/main/Pedro_Henrique_Desafio_Modulo1.ipynb\" target=\"_parent\"><img src=\"https://colab.research.google.com/assets/colab-badge.svg\" alt=\"Open In Colab\"/></a>"
      ]
    },
    {
      "cell_type": "markdown",
      "metadata": {
        "id": "QnJOTyFXfWoy"
      },
      "source": [
        "## Resumo:\n",
        "Faça aqui o resumo das suas analises, destacando os pontos principais do seu projeto"
      ]
    },
    {
      "cell_type": "markdown",
      "metadata": {
        "id": "DeBaOq5vghpj"
      },
      "source": [
        "## Análise dos dados:\n",
        "\n",
        "Inicie aqui o desenvolvimento do seu projeto, não esqueça de adicionar textos curtos e objetivos para que os avaliadores entendam sua linha de raciocínio e as conclusões que você está chegando crie uma narrativa convincente e coerênte aos dados analisados."
      ]
    },
    {
      "cell_type": "markdown",
      "metadata": {
        "id": "3JqFGQXFg1q_"
      },
      "source": [
        "## Definição do Projeto: \n",
        "Caso Covid-19"
      ]
    },
    {
      "cell_type": "code",
      "metadata": {
        "id": "UpAqZ4AuSei8"
      },
      "source": [
        "url = \"/content/drive/MyDrive/Bootcamp/Modulo 1/Projeto Final/caso.csv\""
      ],
      "execution_count": 1,
      "outputs": []
    },
    {
      "cell_type": "markdown",
      "metadata": {
        "id": "6bZYOdFbhctK"
      },
      "source": [
        "## Importando as Bibliotecas:\n",
        "\n",
        "\n"
      ]
    },
    {
      "cell_type": "code",
      "metadata": {
        "id": "8AJLrF_iVEJN"
      },
      "source": [
        "import pandas as pd\n",
        "import numpy as np\n",
        "import matplotlib.pyplot as plt\n",
        "import  matplotlib.ticker as ticker \n",
        "import seaborn as sns"
      ],
      "execution_count": 2,
      "outputs": []
    },
    {
      "cell_type": "code",
      "metadata": {
        "id": "foUUeTygh_vK"
      },
      "source": [
        "pd.options.display.float_format = \"{:,.2f}\".format"
      ],
      "execution_count": 3,
      "outputs": []
    },
    {
      "cell_type": "markdown",
      "metadata": {
        "id": "QkkUpOGqkrzw"
      },
      "source": [
        "## Análises:"
      ]
    },
    {
      "cell_type": "code",
      "metadata": {
        "id": "2dvUrGYsVMBv"
      },
      "source": [
        "#Lendo a base covid-19 que está em \"Definição do Projeto\".\n",
        "dados = pd.read_csv(url,\n",
        "        encoding=\"ISO-8859-1\", \n",
        "        parse_dates=['date'],                         \n",
        "        engine='python',\n",
        "        sep=\",\",                              \n",
        "        thousands=\",\",\n",
        "        decimal=\".\") \n"
      ],
      "execution_count": 4,
      "outputs": []
    },
    {
      "cell_type": "code",
      "metadata": {
        "id": "45Xp4NySVZrO",
        "colab": {
          "base_uri": "https://localhost:8080/",
          "height": 299
        },
        "outputId": "dde34f4e-09f2-4c48-ff29-51f5bcf52240"
      },
      "source": [
        "#Uma pequena visualização aleatória para conhecer a base e suas variáveis.\n",
        "dados.sample(5) "
      ],
      "execution_count": 5,
      "outputs": [
        {
          "output_type": "execute_result",
          "data": {
            "text/html": [
              "<div>\n",
              "<style scoped>\n",
              "    .dataframe tbody tr th:only-of-type {\n",
              "        vertical-align: middle;\n",
              "    }\n",
              "\n",
              "    .dataframe tbody tr th {\n",
              "        vertical-align: top;\n",
              "    }\n",
              "\n",
              "    .dataframe thead th {\n",
              "        text-align: right;\n",
              "    }\n",
              "</style>\n",
              "<table border=\"1\" class=\"dataframe\">\n",
              "  <thead>\n",
              "    <tr style=\"text-align: right;\">\n",
              "      <th></th>\n",
              "      <th>date</th>\n",
              "      <th>state</th>\n",
              "      <th>city</th>\n",
              "      <th>place_type</th>\n",
              "      <th>confirmed</th>\n",
              "      <th>deaths</th>\n",
              "      <th>order_for_place</th>\n",
              "      <th>is_last</th>\n",
              "      <th>estimated_population_2019</th>\n",
              "      <th>estimated_population</th>\n",
              "      <th>city_ibge_code</th>\n",
              "      <th>confirmed_per_100k_inhabitants</th>\n",
              "      <th>death_rate</th>\n",
              "    </tr>\n",
              "  </thead>\n",
              "  <tbody>\n",
              "    <tr>\n",
              "      <th>515555</th>\n",
              "      <td>2020-11-02</td>\n",
              "      <td>PE</td>\n",
              "      <td>Cupira</td>\n",
              "      <td>city</td>\n",
              "      <td>960</td>\n",
              "      <td>29</td>\n",
              "      <td>196</td>\n",
              "      <td>False</td>\n",
              "      <td>24,107.00</td>\n",
              "      <td>24,173.00</td>\n",
              "      <td>2,605,004.00</td>\n",
              "      <td>3,971.37</td>\n",
              "      <td>0.03</td>\n",
              "    </tr>\n",
              "    <tr>\n",
              "      <th>868188</th>\n",
              "      <td>2020-08-15</td>\n",
              "      <td>SP</td>\n",
              "      <td>Bebedouro</td>\n",
              "      <td>city</td>\n",
              "      <td>390</td>\n",
              "      <td>21</td>\n",
              "      <td>131</td>\n",
              "      <td>False</td>\n",
              "      <td>77,496.00</td>\n",
              "      <td>77,555.00</td>\n",
              "      <td>3,506,102.00</td>\n",
              "      <td>502.87</td>\n",
              "      <td>0.05</td>\n",
              "    </tr>\n",
              "    <tr>\n",
              "      <th>911283</th>\n",
              "      <td>2020-07-22</td>\n",
              "      <td>SP</td>\n",
              "      <td>Laranjal Paulista</td>\n",
              "      <td>city</td>\n",
              "      <td>172</td>\n",
              "      <td>4</td>\n",
              "      <td>106</td>\n",
              "      <td>False</td>\n",
              "      <td>28,516.00</td>\n",
              "      <td>28,785.00</td>\n",
              "      <td>3,526,407.00</td>\n",
              "      <td>597.53</td>\n",
              "      <td>0.02</td>\n",
              "    </tr>\n",
              "    <tr>\n",
              "      <th>863339</th>\n",
              "      <td>2020-05-02</td>\n",
              "      <td>SP</td>\n",
              "      <td>AreiÃ³polis</td>\n",
              "      <td>city</td>\n",
              "      <td>4</td>\n",
              "      <td>0</td>\n",
              "      <td>10</td>\n",
              "      <td>False</td>\n",
              "      <td>11,129.00</td>\n",
              "      <td>11,158.00</td>\n",
              "      <td>3,503,604.00</td>\n",
              "      <td>35.85</td>\n",
              "      <td>0.00</td>\n",
              "    </tr>\n",
              "    <tr>\n",
              "      <th>309667</th>\n",
              "      <td>2020-09-04</td>\n",
              "      <td>PB</td>\n",
              "      <td>NaN</td>\n",
              "      <td>state</td>\n",
              "      <td>108925</td>\n",
              "      <td>2517</td>\n",
              "      <td>177</td>\n",
              "      <td>False</td>\n",
              "      <td>4,018,127.00</td>\n",
              "      <td>4,039,277.00</td>\n",
              "      <td>25.00</td>\n",
              "      <td>2,696.65</td>\n",
              "      <td>0.02</td>\n",
              "    </tr>\n",
              "  </tbody>\n",
              "</table>\n",
              "</div>"
            ],
            "text/plain": [
              "             date state  ... confirmed_per_100k_inhabitants death_rate\n",
              "515555 2020-11-02    PE  ...                       3,971.37       0.03\n",
              "868188 2020-08-15    SP  ...                         502.87       0.05\n",
              "911283 2020-07-22    SP  ...                         597.53       0.02\n",
              "863339 2020-05-02    SP  ...                          35.85       0.00\n",
              "309667 2020-09-04    PB  ...                       2,696.65       0.02\n",
              "\n",
              "[5 rows x 13 columns]"
            ]
          },
          "metadata": {
            "tags": []
          },
          "execution_count": 5
        }
      ]
    },
    {
      "cell_type": "code",
      "metadata": {
        "id": "6k7uF_nzXCvf",
        "colab": {
          "base_uri": "https://localhost:8080/"
        },
        "outputId": "e5ed6c9b-c408-4056-c957-016791c502ab"
      },
      "source": [
        "#Existem informações nulas no dataset de acordo com info, nos campos: city, estimated_population_2019, etimated_population, city_ibge_code and confirmed_per_100k_inhabitants.\n",
        "dados.info()"
      ],
      "execution_count": 6,
      "outputs": [
        {
          "output_type": "stream",
          "text": [
            "<class 'pandas.core.frame.DataFrame'>\n",
            "RangeIndex: 974824 entries, 0 to 974823\n",
            "Data columns (total 13 columns):\n",
            " #   Column                          Non-Null Count   Dtype         \n",
            "---  ------                          --------------   -----         \n",
            " 0   date                            974824 non-null  datetime64[ns]\n",
            " 1   state                           974824 non-null  object        \n",
            " 2   city                            968230 non-null  object        \n",
            " 3   place_type                      974824 non-null  object        \n",
            " 4   confirmed                       974824 non-null  int64         \n",
            " 5   deaths                          974824 non-null  int64         \n",
            " 6   order_for_place                 974824 non-null  int64         \n",
            " 7   is_last                         974824 non-null  bool          \n",
            " 8   estimated_population_2019       971052 non-null  float64       \n",
            " 9   estimated_population            971052 non-null  float64       \n",
            " 10  city_ibge_code                  971052 non-null  float64       \n",
            " 11  confirmed_per_100k_inhabitants  957481 non-null  float64       \n",
            " 12  death_rate                      974824 non-null  float64       \n",
            "dtypes: bool(1), datetime64[ns](1), float64(5), int64(3), object(3)\n",
            "memory usage: 90.2+ MB\n"
          ],
          "name": "stdout"
        }
      ]
    },
    {
      "cell_type": "code",
      "metadata": {
        "id": "a0E3j7eOnHvo"
      },
      "source": [
        "#Alterando o tipo da coluna date apra Datetime.\n",
        "dados['date'] = pd.to_datetime(dados['date'],yearfirst=True) "
      ],
      "execution_count": 7,
      "outputs": []
    },
    {
      "cell_type": "code",
      "metadata": {
        "id": "8SEDnyGSOo95",
        "colab": {
          "base_uri": "https://localhost:8080/"
        },
        "outputId": "08d271fd-02a9-4523-f855-1f1cdd10ed45"
      },
      "source": [
        "#Conferindo a alteração do tipo do campo date.\n",
        "dados.info()"
      ],
      "execution_count": 8,
      "outputs": [
        {
          "output_type": "stream",
          "text": [
            "<class 'pandas.core.frame.DataFrame'>\n",
            "RangeIndex: 974824 entries, 0 to 974823\n",
            "Data columns (total 13 columns):\n",
            " #   Column                          Non-Null Count   Dtype         \n",
            "---  ------                          --------------   -----         \n",
            " 0   date                            974824 non-null  datetime64[ns]\n",
            " 1   state                           974824 non-null  object        \n",
            " 2   city                            968230 non-null  object        \n",
            " 3   place_type                      974824 non-null  object        \n",
            " 4   confirmed                       974824 non-null  int64         \n",
            " 5   deaths                          974824 non-null  int64         \n",
            " 6   order_for_place                 974824 non-null  int64         \n",
            " 7   is_last                         974824 non-null  bool          \n",
            " 8   estimated_population_2019       971052 non-null  float64       \n",
            " 9   estimated_population            971052 non-null  float64       \n",
            " 10  city_ibge_code                  971052 non-null  float64       \n",
            " 11  confirmed_per_100k_inhabitants  957481 non-null  float64       \n",
            " 12  death_rate                      974824 non-null  float64       \n",
            "dtypes: bool(1), datetime64[ns](1), float64(5), int64(3), object(3)\n",
            "memory usage: 90.2+ MB\n"
          ],
          "name": "stdout"
        }
      ]
    },
    {
      "cell_type": "code",
      "metadata": {
        "id": "vrm7YphnOrqx",
        "colab": {
          "base_uri": "https://localhost:8080/"
        },
        "outputId": "333f36dd-d436-4f79-e040-f77580ff7ef4"
      },
      "source": [
        "#De acordo com a documentação irei excluir a coluna \"estimated_population_2019\", por possuir valores desatualizados.\n",
        "dados = dados.drop('estimated_population_2019', axis=1)\n",
        "dados.info()"
      ],
      "execution_count": 9,
      "outputs": [
        {
          "output_type": "stream",
          "text": [
            "<class 'pandas.core.frame.DataFrame'>\n",
            "RangeIndex: 974824 entries, 0 to 974823\n",
            "Data columns (total 12 columns):\n",
            " #   Column                          Non-Null Count   Dtype         \n",
            "---  ------                          --------------   -----         \n",
            " 0   date                            974824 non-null  datetime64[ns]\n",
            " 1   state                           974824 non-null  object        \n",
            " 2   city                            968230 non-null  object        \n",
            " 3   place_type                      974824 non-null  object        \n",
            " 4   confirmed                       974824 non-null  int64         \n",
            " 5   deaths                          974824 non-null  int64         \n",
            " 6   order_for_place                 974824 non-null  int64         \n",
            " 7   is_last                         974824 non-null  bool          \n",
            " 8   estimated_population            971052 non-null  float64       \n",
            " 9   city_ibge_code                  971052 non-null  float64       \n",
            " 10  confirmed_per_100k_inhabitants  957481 non-null  float64       \n",
            " 11  death_rate                      974824 non-null  float64       \n",
            "dtypes: bool(1), datetime64[ns](1), float64(4), int64(3), object(3)\n",
            "memory usage: 82.7+ MB\n"
          ],
          "name": "stdout"
        }
      ]
    },
    {
      "cell_type": "code",
      "metadata": {
        "id": "1wOc-dSFSmtF"
      },
      "source": [
        "#Adcionando coluna de número de óbitos por 100.000 habitantes\n",
        "dados['deaths_covid_per_100K_inhabitants'] = dados['deaths']/(dados['estimated_population']/100000)"
      ],
      "execution_count": 10,
      "outputs": []
    },
    {
      "cell_type": "code",
      "metadata": {
        "id": "KUVTuJvNX-2z",
        "colab": {
          "base_uri": "https://localhost:8080/",
          "height": 299
        },
        "outputId": "3ecbf5db-f26a-476b-858d-d0ba894408e7"
      },
      "source": [
        "dados.head()"
      ],
      "execution_count": 11,
      "outputs": [
        {
          "output_type": "execute_result",
          "data": {
            "text/html": [
              "<div>\n",
              "<style scoped>\n",
              "    .dataframe tbody tr th:only-of-type {\n",
              "        vertical-align: middle;\n",
              "    }\n",
              "\n",
              "    .dataframe tbody tr th {\n",
              "        vertical-align: top;\n",
              "    }\n",
              "\n",
              "    .dataframe thead th {\n",
              "        text-align: right;\n",
              "    }\n",
              "</style>\n",
              "<table border=\"1\" class=\"dataframe\">\n",
              "  <thead>\n",
              "    <tr style=\"text-align: right;\">\n",
              "      <th></th>\n",
              "      <th>date</th>\n",
              "      <th>state</th>\n",
              "      <th>city</th>\n",
              "      <th>place_type</th>\n",
              "      <th>confirmed</th>\n",
              "      <th>deaths</th>\n",
              "      <th>order_for_place</th>\n",
              "      <th>is_last</th>\n",
              "      <th>estimated_population</th>\n",
              "      <th>city_ibge_code</th>\n",
              "      <th>confirmed_per_100k_inhabitants</th>\n",
              "      <th>death_rate</th>\n",
              "      <th>deaths_covid_per_100K_inhabitants</th>\n",
              "    </tr>\n",
              "  </thead>\n",
              "  <tbody>\n",
              "    <tr>\n",
              "      <th>0</th>\n",
              "      <td>2020-11-15</td>\n",
              "      <td>AP</td>\n",
              "      <td>NaN</td>\n",
              "      <td>state</td>\n",
              "      <td>54979</td>\n",
              "      <td>777</td>\n",
              "      <td>236</td>\n",
              "      <td>True</td>\n",
              "      <td>861,773.00</td>\n",
              "      <td>16.00</td>\n",
              "      <td>6,379.75</td>\n",
              "      <td>0.01</td>\n",
              "      <td>90.16</td>\n",
              "    </tr>\n",
              "    <tr>\n",
              "      <th>1</th>\n",
              "      <td>2020-11-14</td>\n",
              "      <td>AP</td>\n",
              "      <td>NaN</td>\n",
              "      <td>state</td>\n",
              "      <td>54838</td>\n",
              "      <td>777</td>\n",
              "      <td>235</td>\n",
              "      <td>False</td>\n",
              "      <td>861,773.00</td>\n",
              "      <td>16.00</td>\n",
              "      <td>6,363.39</td>\n",
              "      <td>0.01</td>\n",
              "      <td>90.16</td>\n",
              "    </tr>\n",
              "    <tr>\n",
              "      <th>2</th>\n",
              "      <td>2020-11-13</td>\n",
              "      <td>AP</td>\n",
              "      <td>NaN</td>\n",
              "      <td>state</td>\n",
              "      <td>54417</td>\n",
              "      <td>774</td>\n",
              "      <td>234</td>\n",
              "      <td>False</td>\n",
              "      <td>861,773.00</td>\n",
              "      <td>16.00</td>\n",
              "      <td>6,314.54</td>\n",
              "      <td>0.01</td>\n",
              "      <td>89.81</td>\n",
              "    </tr>\n",
              "    <tr>\n",
              "      <th>3</th>\n",
              "      <td>2020-11-12</td>\n",
              "      <td>AP</td>\n",
              "      <td>NaN</td>\n",
              "      <td>state</td>\n",
              "      <td>54056</td>\n",
              "      <td>771</td>\n",
              "      <td>233</td>\n",
              "      <td>False</td>\n",
              "      <td>861,773.00</td>\n",
              "      <td>16.00</td>\n",
              "      <td>6,272.65</td>\n",
              "      <td>0.01</td>\n",
              "      <td>89.47</td>\n",
              "    </tr>\n",
              "    <tr>\n",
              "      <th>4</th>\n",
              "      <td>2020-11-11</td>\n",
              "      <td>AP</td>\n",
              "      <td>NaN</td>\n",
              "      <td>state</td>\n",
              "      <td>53790</td>\n",
              "      <td>770</td>\n",
              "      <td>232</td>\n",
              "      <td>False</td>\n",
              "      <td>861,773.00</td>\n",
              "      <td>16.00</td>\n",
              "      <td>6,241.78</td>\n",
              "      <td>0.01</td>\n",
              "      <td>89.35</td>\n",
              "    </tr>\n",
              "  </tbody>\n",
              "</table>\n",
              "</div>"
            ],
            "text/plain": [
              "        date state  ... death_rate deaths_covid_per_100K_inhabitants\n",
              "0 2020-11-15    AP  ...       0.01                             90.16\n",
              "1 2020-11-14    AP  ...       0.01                             90.16\n",
              "2 2020-11-13    AP  ...       0.01                             89.81\n",
              "3 2020-11-12    AP  ...       0.01                             89.47\n",
              "4 2020-11-11    AP  ...       0.01                             89.35\n",
              "\n",
              "[5 rows x 13 columns]"
            ]
          },
          "metadata": {
            "tags": []
          },
          "execution_count": 11
        }
      ]
    },
    {
      "cell_type": "markdown",
      "metadata": {
        "id": "T5Pte__qVtV4"
      },
      "source": [
        "### Coletando Informações Básicas do DataFrame"
      ]
    },
    {
      "cell_type": "code",
      "metadata": {
        "colab": {
          "base_uri": "https://localhost:8080/"
        },
        "id": "cbwWcW7-TCxf",
        "outputId": "6bd574a1-8492-4768-d831-e7051118e687"
      },
      "source": [
        "#Quantidades de linas e colunas do DataFrame\n",
        "dados.shape"
      ],
      "execution_count": 12,
      "outputs": [
        {
          "output_type": "execute_result",
          "data": {
            "text/plain": [
              "(974824, 13)"
            ]
          },
          "metadata": {
            "tags": []
          },
          "execution_count": 12
        }
      ]
    },
    {
      "cell_type": "code",
      "metadata": {
        "colab": {
          "base_uri": "https://localhost:8080/"
        },
        "id": "Kq9FLL_tUGP8",
        "outputId": "9dd2850c-a730-477c-dbda-46930b7d037f"
      },
      "source": [
        "#Descrição do Index\n",
        "dados.index"
      ],
      "execution_count": 13,
      "outputs": [
        {
          "output_type": "execute_result",
          "data": {
            "text/plain": [
              "RangeIndex(start=0, stop=974824, step=1)"
            ]
          },
          "metadata": {
            "tags": []
          },
          "execution_count": 13
        }
      ]
    },
    {
      "cell_type": "code",
      "metadata": {
        "colab": {
          "base_uri": "https://localhost:8080/"
        },
        "id": "X878OsqxUaA6",
        "outputId": "cb91fb3f-af73-413f-e296-243b2bcfaa39"
      },
      "source": [
        "#Colunas Presetes no DataFrame\n",
        "dados.columns"
      ],
      "execution_count": 14,
      "outputs": [
        {
          "output_type": "execute_result",
          "data": {
            "text/plain": [
              "Index(['date', 'state', 'city', 'place_type', 'confirmed', 'deaths',\n",
              "       'order_for_place', 'is_last', 'estimated_population', 'city_ibge_code',\n",
              "       'confirmed_per_100k_inhabitants', 'death_rate',\n",
              "       'deaths_covid_per_100K_inhabitants'],\n",
              "      dtype='object')"
            ]
          },
          "metadata": {
            "tags": []
          },
          "execution_count": 14
        }
      ]
    },
    {
      "cell_type": "code",
      "metadata": {
        "colab": {
          "base_uri": "https://localhost:8080/"
        },
        "id": "SUumr_fsUp4M",
        "outputId": "1aa196b6-d687-458b-a2f1-f83161a1a71a"
      },
      "source": [
        "#Contagem de Dados Não Nulos\n",
        "dados.count()"
      ],
      "execution_count": 15,
      "outputs": [
        {
          "output_type": "execute_result",
          "data": {
            "text/plain": [
              "date                                 974824\n",
              "state                                974824\n",
              "city                                 968230\n",
              "place_type                           974824\n",
              "confirmed                            974824\n",
              "deaths                               974824\n",
              "order_for_place                      974824\n",
              "is_last                              974824\n",
              "estimated_population                 971052\n",
              "city_ibge_code                       971052\n",
              "confirmed_per_100k_inhabitants       957481\n",
              "death_rate                           974824\n",
              "deaths_covid_per_100K_inhabitants    971052\n",
              "dtype: int64"
            ]
          },
          "metadata": {
            "tags": []
          },
          "execution_count": 15
        }
      ]
    },
    {
      "cell_type": "code",
      "metadata": {
        "colab": {
          "base_uri": "https://localhost:8080/"
        },
        "id": "NKNSUod6aQcf",
        "outputId": "d487a91d-8696-43bc-f1bb-7df5b22712d3"
      },
      "source": [
        " #Informação sobre o período de tempo do DataFrame\n",
        " dados.date.max()-dados.date.min()"
      ],
      "execution_count": 16,
      "outputs": [
        {
          "output_type": "execute_result",
          "data": {
            "text/plain": [
              "Timedelta('264 days 00:00:00')"
            ]
          },
          "metadata": {
            "tags": []
          },
          "execution_count": 16
        }
      ]
    },
    {
      "cell_type": "code",
      "metadata": {
        "id": "etY7PH01ax-h"
      },
      "source": [
        ""
      ],
      "execution_count": 16,
      "outputs": []
    }
  ]
}