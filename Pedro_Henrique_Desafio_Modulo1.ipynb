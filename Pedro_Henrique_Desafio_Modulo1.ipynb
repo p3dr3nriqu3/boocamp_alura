{
  "nbformat": 4,
  "nbformat_minor": 0,
  "metadata": {
    "colab": {
      "name": "Pedro_Henrique_Desafio_Modulo1.ipynb",
      "provenance": [],
      "collapsed_sections": [],
      "mount_file_id": "https://github.com/p3dr3nriqu3/boocamp_alura/blob/main/Pedro_Henrique_Desafio_Modulo1.ipynb",
      "authorship_tag": "ABX9TyOXoOhva03WgIoiOD3YtvM4",
      "include_colab_link": true
    },
    "kernelspec": {
      "name": "python3",
      "display_name": "Python 3"
    }
  },
  "cells": [
    {
      "cell_type": "markdown",
      "metadata": {
        "id": "view-in-github",
        "colab_type": "text"
      },
      "source": [
        "<a href=\"https://colab.research.google.com/github/p3dr3nriqu3/boocamp_alura/blob/main/Pedro_Henrique_Desafio_Modulo1.ipynb\" target=\"_parent\"><img src=\"https://colab.research.google.com/assets/colab-badge.svg\" alt=\"Open In Colab\"/></a>"
      ]
    },
    {
      "cell_type": "markdown",
      "metadata": {
        "id": "QnJOTyFXfWoy"
      },
      "source": [
        "## Resumo:\n",
        "Faça aqui o resumo das suas analises, destacando os pontos principais do seu projeto"
      ]
    },
    {
      "cell_type": "markdown",
      "metadata": {
        "id": "DeBaOq5vghpj"
      },
      "source": [
        "## Análise dos dados:\n",
        "\n",
        "Inicie aqui o desenvolvimento do seu projeto, não esqueça de adicionar textos curtos e objetivos para que os avaliadores entendam sua linha de raciocínio e as conclusões que você está chegando crie uma narrativa convincente e coerênte aos dados analisados."
      ]
    },
    {
      "cell_type": "markdown",
      "metadata": {
        "id": "3JqFGQXFg1q_"
      },
      "source": [
        "## Definição do Projeto: \n",
        "Caso Covid-19"
      ]
    },
    {
      "cell_type": "code",
      "metadata": {
        "id": "UpAqZ4AuSei8"
      },
      "source": [
        "url = \"/content/drive/MyDrive/Bootcamp/Modulo 1/Projeto Final/caso.csv\""
      ],
      "execution_count": 1,
      "outputs": []
    },
    {
      "cell_type": "markdown",
      "metadata": {
        "id": "6bZYOdFbhctK"
      },
      "source": [
        "## Importando as Bibliotecas:\n",
        "\n",
        "\n"
      ]
    },
    {
      "cell_type": "code",
      "metadata": {
        "id": "8AJLrF_iVEJN"
      },
      "source": [
        "import pandas as pd\n",
        "import numpy as np\n",
        "import matplotlib.pyplot as plt\n",
        "import  matplotlib.ticker as ticker \n",
        "import seaborn as sns"
      ],
      "execution_count": 2,
      "outputs": []
    },
    {
      "cell_type": "code",
      "metadata": {
        "id": "foUUeTygh_vK"
      },
      "source": [
        "pd.options.display.float_format = \"{:,.2f}\".format"
      ],
      "execution_count": 3,
      "outputs": []
    },
    {
      "cell_type": "markdown",
      "metadata": {
        "id": "QkkUpOGqkrzw"
      },
      "source": [
        "## Análises:"
      ]
    },
    {
      "cell_type": "code",
      "metadata": {
        "id": "2dvUrGYsVMBv"
      },
      "source": [
        "#Lendo a base covid-19 que está em \"Definição do Projeto\".\n",
        "dados = pd.read_csv(url) \n"
      ],
      "execution_count": 4,
      "outputs": []
    },
    {
      "cell_type": "code",
      "metadata": {
        "id": "45Xp4NySVZrO",
        "colab": {
          "base_uri": "https://localhost:8080/",
          "height": 316
        },
        "outputId": "a5a9cb56-1869-4f02-aee6-4e8ea6b9a84b"
      },
      "source": [
        "#Uma pequena visualização aleatória para conhecer a base e suas variáveis.\n",
        "dados.sample(5) "
      ],
      "execution_count": 5,
      "outputs": [
        {
          "output_type": "execute_result",
          "data": {
            "text/html": [
              "<div>\n",
              "<style scoped>\n",
              "    .dataframe tbody tr th:only-of-type {\n",
              "        vertical-align: middle;\n",
              "    }\n",
              "\n",
              "    .dataframe tbody tr th {\n",
              "        vertical-align: top;\n",
              "    }\n",
              "\n",
              "    .dataframe thead th {\n",
              "        text-align: right;\n",
              "    }\n",
              "</style>\n",
              "<table border=\"1\" class=\"dataframe\">\n",
              "  <thead>\n",
              "    <tr style=\"text-align: right;\">\n",
              "      <th></th>\n",
              "      <th>date</th>\n",
              "      <th>state</th>\n",
              "      <th>city</th>\n",
              "      <th>place_type</th>\n",
              "      <th>confirmed</th>\n",
              "      <th>deaths</th>\n",
              "      <th>order_for_place</th>\n",
              "      <th>is_last</th>\n",
              "      <th>estimated_population_2019</th>\n",
              "      <th>estimated_population</th>\n",
              "      <th>city_ibge_code</th>\n",
              "      <th>confirmed_per_100k_inhabitants</th>\n",
              "      <th>death_rate</th>\n",
              "    </tr>\n",
              "  </thead>\n",
              "  <tbody>\n",
              "    <tr>\n",
              "      <th>879941</th>\n",
              "      <td>2020-05-03</td>\n",
              "      <td>SP</td>\n",
              "      <td>Chavantes</td>\n",
              "      <td>city</td>\n",
              "      <td>1</td>\n",
              "      <td>0</td>\n",
              "      <td>13</td>\n",
              "      <td>False</td>\n",
              "      <td>12,418.00</td>\n",
              "      <td>12,418.00</td>\n",
              "      <td>3,557,204.00</td>\n",
              "      <td>8.05</td>\n",
              "      <td>0.00</td>\n",
              "    </tr>\n",
              "    <tr>\n",
              "      <th>648186</th>\n",
              "      <td>2020-07-31</td>\n",
              "      <td>RR</td>\n",
              "      <td>São Luiz</td>\n",
              "      <td>city</td>\n",
              "      <td>178</td>\n",
              "      <td>2</td>\n",
              "      <td>102</td>\n",
              "      <td>False</td>\n",
              "      <td>7,986.00</td>\n",
              "      <td>8,110.00</td>\n",
              "      <td>1,400,605.00</td>\n",
              "      <td>2,194.82</td>\n",
              "      <td>0.01</td>\n",
              "    </tr>\n",
              "    <tr>\n",
              "      <th>189057</th>\n",
              "      <td>2020-05-14</td>\n",
              "      <td>BA</td>\n",
              "      <td>Paulo Afonso</td>\n",
              "      <td>city</td>\n",
              "      <td>10</td>\n",
              "      <td>0</td>\n",
              "      <td>24</td>\n",
              "      <td>False</td>\n",
              "      <td>117,782.00</td>\n",
              "      <td>118,516.00</td>\n",
              "      <td>2,924,009.00</td>\n",
              "      <td>8.44</td>\n",
              "      <td>0.00</td>\n",
              "    </tr>\n",
              "    <tr>\n",
              "      <th>345010</th>\n",
              "      <td>2020-07-17</td>\n",
              "      <td>PB</td>\n",
              "      <td>São José de Espinharas</td>\n",
              "      <td>city</td>\n",
              "      <td>12</td>\n",
              "      <td>0</td>\n",
              "      <td>77</td>\n",
              "      <td>False</td>\n",
              "      <td>4,682.00</td>\n",
              "      <td>4,656.00</td>\n",
              "      <td>2,514,404.00</td>\n",
              "      <td>257.73</td>\n",
              "      <td>0.00</td>\n",
              "    </tr>\n",
              "    <tr>\n",
              "      <th>854028</th>\n",
              "      <td>2020-09-29</td>\n",
              "      <td>SC</td>\n",
              "      <td>Vargem</td>\n",
              "      <td>city</td>\n",
              "      <td>78</td>\n",
              "      <td>1</td>\n",
              "      <td>137</td>\n",
              "      <td>False</td>\n",
              "      <td>2,477.00</td>\n",
              "      <td>2,432.00</td>\n",
              "      <td>4,219,150.00</td>\n",
              "      <td>3,207.24</td>\n",
              "      <td>0.01</td>\n",
              "    </tr>\n",
              "  </tbody>\n",
              "</table>\n",
              "</div>"
            ],
            "text/plain": [
              "              date state  ... confirmed_per_100k_inhabitants death_rate\n",
              "879941  2020-05-03    SP  ...                           8.05       0.00\n",
              "648186  2020-07-31    RR  ...                       2,194.82       0.01\n",
              "189057  2020-05-14    BA  ...                           8.44       0.00\n",
              "345010  2020-07-17    PB  ...                         257.73       0.00\n",
              "854028  2020-09-29    SC  ...                       3,207.24       0.01\n",
              "\n",
              "[5 rows x 13 columns]"
            ]
          },
          "metadata": {
            "tags": []
          },
          "execution_count": 5
        }
      ]
    },
    {
      "cell_type": "code",
      "metadata": {
        "id": "6k7uF_nzXCvf",
        "colab": {
          "base_uri": "https://localhost:8080/"
        },
        "outputId": "9fb3e0d6-b568-4a76-aba6-b74809cbf491"
      },
      "source": [
        "#Existem informações nulas no dataset de acordo com info, nos campos: city, estimated_population_2019, etimated_population, city_ibge_code and confirmed_per_100k_inhabitants.\n",
        "dados.info()"
      ],
      "execution_count": 6,
      "outputs": [
        {
          "output_type": "stream",
          "text": [
            "<class 'pandas.core.frame.DataFrame'>\n",
            "RangeIndex: 974824 entries, 0 to 974823\n",
            "Data columns (total 13 columns):\n",
            " #   Column                          Non-Null Count   Dtype  \n",
            "---  ------                          --------------   -----  \n",
            " 0   date                            974824 non-null  object \n",
            " 1   state                           974824 non-null  object \n",
            " 2   city                            968230 non-null  object \n",
            " 3   place_type                      974824 non-null  object \n",
            " 4   confirmed                       974824 non-null  int64  \n",
            " 5   deaths                          974824 non-null  int64  \n",
            " 6   order_for_place                 974824 non-null  int64  \n",
            " 7   is_last                         974824 non-null  bool   \n",
            " 8   estimated_population_2019       971052 non-null  float64\n",
            " 9   estimated_population            971052 non-null  float64\n",
            " 10  city_ibge_code                  971052 non-null  float64\n",
            " 11  confirmed_per_100k_inhabitants  957481 non-null  float64\n",
            " 12  death_rate                      974824 non-null  float64\n",
            "dtypes: bool(1), float64(5), int64(3), object(4)\n",
            "memory usage: 90.2+ MB\n"
          ],
          "name": "stdout"
        }
      ]
    },
    {
      "cell_type": "code",
      "metadata": {
        "id": "a0E3j7eOnHvo"
      },
      "source": [
        "#Alterando o tipo da coluna date apra Datetime.\n",
        "dados['date'] = pd.to_datetime(dados['date'],yearfirst=True) "
      ],
      "execution_count": 7,
      "outputs": []
    },
    {
      "cell_type": "code",
      "metadata": {
        "id": "8SEDnyGSOo95",
        "colab": {
          "base_uri": "https://localhost:8080/"
        },
        "outputId": "ae7fd54e-bcf8-491b-a6e1-a33999eddef4"
      },
      "source": [
        "#Conferindo a alteração do tipo do campo date.\n",
        "dados.info()"
      ],
      "execution_count": 8,
      "outputs": [
        {
          "output_type": "stream",
          "text": [
            "<class 'pandas.core.frame.DataFrame'>\n",
            "RangeIndex: 974824 entries, 0 to 974823\n",
            "Data columns (total 13 columns):\n",
            " #   Column                          Non-Null Count   Dtype         \n",
            "---  ------                          --------------   -----         \n",
            " 0   date                            974824 non-null  datetime64[ns]\n",
            " 1   state                           974824 non-null  object        \n",
            " 2   city                            968230 non-null  object        \n",
            " 3   place_type                      974824 non-null  object        \n",
            " 4   confirmed                       974824 non-null  int64         \n",
            " 5   deaths                          974824 non-null  int64         \n",
            " 6   order_for_place                 974824 non-null  int64         \n",
            " 7   is_last                         974824 non-null  bool          \n",
            " 8   estimated_population_2019       971052 non-null  float64       \n",
            " 9   estimated_population            971052 non-null  float64       \n",
            " 10  city_ibge_code                  971052 non-null  float64       \n",
            " 11  confirmed_per_100k_inhabitants  957481 non-null  float64       \n",
            " 12  death_rate                      974824 non-null  float64       \n",
            "dtypes: bool(1), datetime64[ns](1), float64(5), int64(3), object(3)\n",
            "memory usage: 90.2+ MB\n"
          ],
          "name": "stdout"
        }
      ]
    },
    {
      "cell_type": "code",
      "metadata": {
        "id": "vrm7YphnOrqx",
        "colab": {
          "base_uri": "https://localhost:8080/"
        },
        "outputId": "6a9f972a-faea-4286-fd73-5f7dd3597ba1"
      },
      "source": [
        "#De acordo com a documentação irei excluir a coluna \"estimated_population_2019\", por possuir valores desatualizados.\n",
        "dados = dados.drop('estimated_population_2019', axis=1)\n",
        "dados.info()"
      ],
      "execution_count": 9,
      "outputs": [
        {
          "output_type": "stream",
          "text": [
            "<class 'pandas.core.frame.DataFrame'>\n",
            "RangeIndex: 974824 entries, 0 to 974823\n",
            "Data columns (total 12 columns):\n",
            " #   Column                          Non-Null Count   Dtype         \n",
            "---  ------                          --------------   -----         \n",
            " 0   date                            974824 non-null  datetime64[ns]\n",
            " 1   state                           974824 non-null  object        \n",
            " 2   city                            968230 non-null  object        \n",
            " 3   place_type                      974824 non-null  object        \n",
            " 4   confirmed                       974824 non-null  int64         \n",
            " 5   deaths                          974824 non-null  int64         \n",
            " 6   order_for_place                 974824 non-null  int64         \n",
            " 7   is_last                         974824 non-null  bool          \n",
            " 8   estimated_population            971052 non-null  float64       \n",
            " 9   city_ibge_code                  971052 non-null  float64       \n",
            " 10  confirmed_per_100k_inhabitants  957481 non-null  float64       \n",
            " 11  death_rate                      974824 non-null  float64       \n",
            "dtypes: bool(1), datetime64[ns](1), float64(4), int64(3), object(3)\n",
            "memory usage: 82.7+ MB\n"
          ],
          "name": "stdout"
        }
      ]
    },
    {
      "cell_type": "code",
      "metadata": {
        "id": "1wOc-dSFSmtF"
      },
      "source": [
        "#Adcionando coluna de número de óbitos por 100.000 habitantes\n",
        "dados['deaths_covid_per_100K_inhabitants'] = dados['deaths']/(dados['estimated_population']/100000)"
      ],
      "execution_count": 10,
      "outputs": []
    },
    {
      "cell_type": "code",
      "metadata": {
        "id": "KUVTuJvNX-2z",
        "colab": {
          "base_uri": "https://localhost:8080/",
          "height": 299
        },
        "outputId": "56eecb7f-aa7c-4299-b949-caabc91ea210"
      },
      "source": [
        "dados.head()"
      ],
      "execution_count": 11,
      "outputs": [
        {
          "output_type": "execute_result",
          "data": {
            "text/html": [
              "<div>\n",
              "<style scoped>\n",
              "    .dataframe tbody tr th:only-of-type {\n",
              "        vertical-align: middle;\n",
              "    }\n",
              "\n",
              "    .dataframe tbody tr th {\n",
              "        vertical-align: top;\n",
              "    }\n",
              "\n",
              "    .dataframe thead th {\n",
              "        text-align: right;\n",
              "    }\n",
              "</style>\n",
              "<table border=\"1\" class=\"dataframe\">\n",
              "  <thead>\n",
              "    <tr style=\"text-align: right;\">\n",
              "      <th></th>\n",
              "      <th>date</th>\n",
              "      <th>state</th>\n",
              "      <th>city</th>\n",
              "      <th>place_type</th>\n",
              "      <th>confirmed</th>\n",
              "      <th>deaths</th>\n",
              "      <th>order_for_place</th>\n",
              "      <th>is_last</th>\n",
              "      <th>estimated_population</th>\n",
              "      <th>city_ibge_code</th>\n",
              "      <th>confirmed_per_100k_inhabitants</th>\n",
              "      <th>death_rate</th>\n",
              "      <th>deaths_covid_per_100K_inhabitants</th>\n",
              "    </tr>\n",
              "  </thead>\n",
              "  <tbody>\n",
              "    <tr>\n",
              "      <th>0</th>\n",
              "      <td>2020-11-15</td>\n",
              "      <td>AP</td>\n",
              "      <td>NaN</td>\n",
              "      <td>state</td>\n",
              "      <td>54979</td>\n",
              "      <td>777</td>\n",
              "      <td>236</td>\n",
              "      <td>True</td>\n",
              "      <td>861,773.00</td>\n",
              "      <td>16.00</td>\n",
              "      <td>6,379.75</td>\n",
              "      <td>0.01</td>\n",
              "      <td>90.16</td>\n",
              "    </tr>\n",
              "    <tr>\n",
              "      <th>1</th>\n",
              "      <td>2020-11-14</td>\n",
              "      <td>AP</td>\n",
              "      <td>NaN</td>\n",
              "      <td>state</td>\n",
              "      <td>54838</td>\n",
              "      <td>777</td>\n",
              "      <td>235</td>\n",
              "      <td>False</td>\n",
              "      <td>861,773.00</td>\n",
              "      <td>16.00</td>\n",
              "      <td>6,363.39</td>\n",
              "      <td>0.01</td>\n",
              "      <td>90.16</td>\n",
              "    </tr>\n",
              "    <tr>\n",
              "      <th>2</th>\n",
              "      <td>2020-11-13</td>\n",
              "      <td>AP</td>\n",
              "      <td>NaN</td>\n",
              "      <td>state</td>\n",
              "      <td>54417</td>\n",
              "      <td>774</td>\n",
              "      <td>234</td>\n",
              "      <td>False</td>\n",
              "      <td>861,773.00</td>\n",
              "      <td>16.00</td>\n",
              "      <td>6,314.54</td>\n",
              "      <td>0.01</td>\n",
              "      <td>89.81</td>\n",
              "    </tr>\n",
              "    <tr>\n",
              "      <th>3</th>\n",
              "      <td>2020-11-12</td>\n",
              "      <td>AP</td>\n",
              "      <td>NaN</td>\n",
              "      <td>state</td>\n",
              "      <td>54056</td>\n",
              "      <td>771</td>\n",
              "      <td>233</td>\n",
              "      <td>False</td>\n",
              "      <td>861,773.00</td>\n",
              "      <td>16.00</td>\n",
              "      <td>6,272.65</td>\n",
              "      <td>0.01</td>\n",
              "      <td>89.47</td>\n",
              "    </tr>\n",
              "    <tr>\n",
              "      <th>4</th>\n",
              "      <td>2020-11-11</td>\n",
              "      <td>AP</td>\n",
              "      <td>NaN</td>\n",
              "      <td>state</td>\n",
              "      <td>53790</td>\n",
              "      <td>770</td>\n",
              "      <td>232</td>\n",
              "      <td>False</td>\n",
              "      <td>861,773.00</td>\n",
              "      <td>16.00</td>\n",
              "      <td>6,241.78</td>\n",
              "      <td>0.01</td>\n",
              "      <td>89.35</td>\n",
              "    </tr>\n",
              "  </tbody>\n",
              "</table>\n",
              "</div>"
            ],
            "text/plain": [
              "        date state  ... death_rate deaths_covid_per_100K_inhabitants\n",
              "0 2020-11-15    AP  ...       0.01                             90.16\n",
              "1 2020-11-14    AP  ...       0.01                             90.16\n",
              "2 2020-11-13    AP  ...       0.01                             89.81\n",
              "3 2020-11-12    AP  ...       0.01                             89.47\n",
              "4 2020-11-11    AP  ...       0.01                             89.35\n",
              "\n",
              "[5 rows x 13 columns]"
            ]
          },
          "metadata": {
            "tags": []
          },
          "execution_count": 11
        }
      ]
    },
    {
      "cell_type": "markdown",
      "metadata": {
        "id": "T5Pte__qVtV4"
      },
      "source": [
        "### Coletando Informações Básicas do DataFrame"
      ]
    },
    {
      "cell_type": "code",
      "metadata": {
        "colab": {
          "base_uri": "https://localhost:8080/"
        },
        "id": "cbwWcW7-TCxf",
        "outputId": "787b75da-03be-4c7d-8fca-ef7a5f07e90b"
      },
      "source": [
        "#Quantidades de linas e colunas do DataFrame\n",
        "dados.shape"
      ],
      "execution_count": 22,
      "outputs": [
        {
          "output_type": "execute_result",
          "data": {
            "text/plain": [
              "(974824, 13)"
            ]
          },
          "metadata": {
            "tags": []
          },
          "execution_count": 22
        }
      ]
    },
    {
      "cell_type": "code",
      "metadata": {
        "colab": {
          "base_uri": "https://localhost:8080/"
        },
        "id": "Kq9FLL_tUGP8",
        "outputId": "ac33dc62-62f6-419a-d544-4a5ec24ec454"
      },
      "source": [
        "#Descrição do Index\n",
        "dados.index"
      ],
      "execution_count": 23,
      "outputs": [
        {
          "output_type": "execute_result",
          "data": {
            "text/plain": [
              "RangeIndex(start=0, stop=974824, step=1)"
            ]
          },
          "metadata": {
            "tags": []
          },
          "execution_count": 23
        }
      ]
    },
    {
      "cell_type": "code",
      "metadata": {
        "colab": {
          "base_uri": "https://localhost:8080/"
        },
        "id": "X878OsqxUaA6",
        "outputId": "505cf721-715e-4515-9e08-bd5e6fc7ea26"
      },
      "source": [
        "#Colunas Presetes no DataFrame\n",
        "dados.columns"
      ],
      "execution_count": 24,
      "outputs": [
        {
          "output_type": "execute_result",
          "data": {
            "text/plain": [
              "Index(['date', 'state', 'city', 'place_type', 'confirmed', 'deaths',\n",
              "       'order_for_place', 'is_last', 'estimated_population', 'city_ibge_code',\n",
              "       'confirmed_per_100k_inhabitants', 'death_rate',\n",
              "       'deaths_covid_per_100K_inhabitants'],\n",
              "      dtype='object')"
            ]
          },
          "metadata": {
            "tags": []
          },
          "execution_count": 24
        }
      ]
    },
    {
      "cell_type": "code",
      "metadata": {
        "colab": {
          "base_uri": "https://localhost:8080/"
        },
        "id": "SUumr_fsUp4M",
        "outputId": "09d75da9-235a-46ec-bb5c-417599150862"
      },
      "source": [
        "#Contagem de Dados Não Nulos\n",
        "dados.count()"
      ],
      "execution_count": 25,
      "outputs": [
        {
          "output_type": "execute_result",
          "data": {
            "text/plain": [
              "date                                 974824\n",
              "state                                974824\n",
              "city                                 968230\n",
              "place_type                           974824\n",
              "confirmed                            974824\n",
              "deaths                               974824\n",
              "order_for_place                      974824\n",
              "is_last                              974824\n",
              "estimated_population                 971052\n",
              "city_ibge_code                       971052\n",
              "confirmed_per_100k_inhabitants       957481\n",
              "death_rate                           974824\n",
              "deaths_covid_per_100K_inhabitants    971052\n",
              "dtype: int64"
            ]
          },
          "metadata": {
            "tags": []
          },
          "execution_count": 25
        }
      ]
    },
    {
      "cell_type": "code",
      "metadata": {
        "colab": {
          "base_uri": "https://localhost:8080/"
        },
        "id": "NKNSUod6aQcf",
        "outputId": "b3910f2a-654e-448d-c8e4-ec61f05fe4bb"
      },
      "source": [
        " #Informação sobre o período de tempo do DataFrame\n",
        " dados.date.max()-dados.date.min()"
      ],
      "execution_count": 38,
      "outputs": [
        {
          "output_type": "execute_result",
          "data": {
            "text/plain": [
              "Timedelta('264 days 00:00:00')"
            ]
          },
          "metadata": {
            "tags": []
          },
          "execution_count": 38
        }
      ]
    },
    {
      "cell_type": "code",
      "metadata": {
        "id": "etY7PH01ax-h"
      },
      "source": [
        ""
      ],
      "execution_count": null,
      "outputs": []
    }
  ]
}