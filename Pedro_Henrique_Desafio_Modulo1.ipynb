{
  "nbformat": 4,
  "nbformat_minor": 0,
  "metadata": {
    "colab": {
      "name": "Pedro_Henrique_Desafio_Modulo1.ipynb",
      "provenance": [],
      "collapsed_sections": [],
      "mount_file_id": "1i4607Ywx4n1hhLeGxhwBTOwioaZGsNhu",
      "authorship_tag": "ABX9TyO4n+ccMYPUYddL5xRt+5IS",
      "include_colab_link": true
    },
    "kernelspec": {
      "name": "python3",
      "display_name": "Python 3"
    }
  },
  "cells": [
    {
      "cell_type": "markdown",
      "metadata": {
        "id": "view-in-github",
        "colab_type": "text"
      },
      "source": [
        "<a href=\"https://colab.research.google.com/github/p3dr3nriqu3/boocamp_alura/blob/main/Pedro_Henrique_Desafio_Modulo1.ipynb\" target=\"_parent\"><img src=\"https://colab.research.google.com/assets/colab-badge.svg\" alt=\"Open In Colab\"/></a>"
      ]
    },
    {
      "cell_type": "markdown",
      "metadata": {
        "id": "QnJOTyFXfWoy"
      },
      "source": [
        "## Resumo:\n",
        "Faça aqui o resumo das suas analises, destacando os pontos principais do seu projeto"
      ]
    },
    {
      "cell_type": "markdown",
      "metadata": {
        "id": "DeBaOq5vghpj"
      },
      "source": [
        "## Análise dos dados:\n",
        "\n",
        "Inicie aqui o desenvolvimento do seu projeto, não esqueça de adicionar textos curtos e objetivos para que os avaliadores entendam sua linha de raciocínio e as conclusões que você está chegando crie uma narrativa convincente e coerênte aos dados analisados."
      ]
    },
    {
      "cell_type": "markdown",
      "metadata": {
        "id": "3JqFGQXFg1q_"
      },
      "source": [
        "## Definição do Projeto: \n",
        "Caso Covid-19"
      ]
    },
    {
      "cell_type": "code",
      "metadata": {
        "id": "UpAqZ4AuSei8"
      },
      "source": [
        "url = \"/content/drive/MyDrive/Bootcamp/Modulo 1/Projeto Final/caso.csv\""
      ],
      "execution_count": 1,
      "outputs": []
    },
    {
      "cell_type": "markdown",
      "metadata": {
        "id": "6bZYOdFbhctK"
      },
      "source": [
        "## Importando as Bibliotecas:\n",
        "\n",
        "\n"
      ]
    },
    {
      "cell_type": "code",
      "metadata": {
        "id": "8AJLrF_iVEJN"
      },
      "source": [
        "import pandas as pd\n",
        "import numpy as np\n",
        "import matplotlib.pyplot as plt\n",
        "import  matplotlib.ticker as ticker \n",
        "import seaborn as sns"
      ],
      "execution_count": 2,
      "outputs": []
    },
    {
      "cell_type": "code",
      "metadata": {
        "id": "foUUeTygh_vK"
      },
      "source": [
        "pd.options.display.float_format = \"{:,.2f}\".format"
      ],
      "execution_count": 3,
      "outputs": []
    },
    {
      "cell_type": "markdown",
      "metadata": {
        "id": "QkkUpOGqkrzw"
      },
      "source": [
        "## Análises:"
      ]
    },
    {
      "cell_type": "code",
      "metadata": {
        "id": "2dvUrGYsVMBv"
      },
      "source": [
        "#Lendo a base covid-19 que está em \"Definição do Projeto\".\n",
        "dados = pd.read_csv(url) \n"
      ],
      "execution_count": 4,
      "outputs": []
    },
    {
      "cell_type": "code",
      "metadata": {
        "id": "45Xp4NySVZrO",
        "outputId": "332033c2-890f-4da6-f7fa-404a40e9f2d6",
        "colab": {
          "base_uri": "https://localhost:8080/",
          "height": 316
        }
      },
      "source": [
        "#Uma pequena visualização aleatória para conhecer a base e suas variáveis.\n",
        "dados.sample(5) "
      ],
      "execution_count": 5,
      "outputs": [
        {
          "output_type": "execute_result",
          "data": {
            "text/html": [
              "<div>\n",
              "<style scoped>\n",
              "    .dataframe tbody tr th:only-of-type {\n",
              "        vertical-align: middle;\n",
              "    }\n",
              "\n",
              "    .dataframe tbody tr th {\n",
              "        vertical-align: top;\n",
              "    }\n",
              "\n",
              "    .dataframe thead th {\n",
              "        text-align: right;\n",
              "    }\n",
              "</style>\n",
              "<table border=\"1\" class=\"dataframe\">\n",
              "  <thead>\n",
              "    <tr style=\"text-align: right;\">\n",
              "      <th></th>\n",
              "      <th>date</th>\n",
              "      <th>state</th>\n",
              "      <th>city</th>\n",
              "      <th>place_type</th>\n",
              "      <th>confirmed</th>\n",
              "      <th>deaths</th>\n",
              "      <th>order_for_place</th>\n",
              "      <th>is_last</th>\n",
              "      <th>estimated_population_2019</th>\n",
              "      <th>estimated_population</th>\n",
              "      <th>city_ibge_code</th>\n",
              "      <th>confirmed_per_100k_inhabitants</th>\n",
              "      <th>death_rate</th>\n",
              "    </tr>\n",
              "  </thead>\n",
              "  <tbody>\n",
              "    <tr>\n",
              "      <th>970789</th>\n",
              "      <td>2020-09-03</td>\n",
              "      <td>SP</td>\n",
              "      <td>Valinhos</td>\n",
              "      <td>city</td>\n",
              "      <td>2420</td>\n",
              "      <td>76</td>\n",
              "      <td>160</td>\n",
              "      <td>False</td>\n",
              "      <td>129,193.00</td>\n",
              "      <td>131,210.00</td>\n",
              "      <td>3,556,206.00</td>\n",
              "      <td>1,844.37</td>\n",
              "      <td>0.03</td>\n",
              "    </tr>\n",
              "    <tr>\n",
              "      <th>760270</th>\n",
              "      <td>2020-08-31</td>\n",
              "      <td>RS</td>\n",
              "      <td>Torres</td>\n",
              "      <td>city</td>\n",
              "      <td>700</td>\n",
              "      <td>8</td>\n",
              "      <td>163</td>\n",
              "      <td>False</td>\n",
              "      <td>38,732.00</td>\n",
              "      <td>39,064.00</td>\n",
              "      <td>4,321,501.00</td>\n",
              "      <td>1,791.93</td>\n",
              "      <td>0.01</td>\n",
              "    </tr>\n",
              "    <tr>\n",
              "      <th>351853</th>\n",
              "      <td>2020-10-22</td>\n",
              "      <td>MG</td>\n",
              "      <td>Alfredo Vasconcelos</td>\n",
              "      <td>city</td>\n",
              "      <td>17</td>\n",
              "      <td>1</td>\n",
              "      <td>158</td>\n",
              "      <td>False</td>\n",
              "      <td>6,907.00</td>\n",
              "      <td>6,981.00</td>\n",
              "      <td>3,101,631.00</td>\n",
              "      <td>243.52</td>\n",
              "      <td>0.06</td>\n",
              "    </tr>\n",
              "    <tr>\n",
              "      <th>938381</th>\n",
              "      <td>2020-06-10</td>\n",
              "      <td>SP</td>\n",
              "      <td>Porangaba</td>\n",
              "      <td>city</td>\n",
              "      <td>6</td>\n",
              "      <td>0</td>\n",
              "      <td>35</td>\n",
              "      <td>False</td>\n",
              "      <td>9,925.00</td>\n",
              "      <td>10,067.00</td>\n",
              "      <td>3,540,507.00</td>\n",
              "      <td>59.60</td>\n",
              "      <td>0.00</td>\n",
              "    </tr>\n",
              "    <tr>\n",
              "      <th>953668</th>\n",
              "      <td>2020-09-24</td>\n",
              "      <td>SP</td>\n",
              "      <td>Santo Antônio do Aracanguá</td>\n",
              "      <td>city</td>\n",
              "      <td>158</td>\n",
              "      <td>6</td>\n",
              "      <td>151</td>\n",
              "      <td>False</td>\n",
              "      <td>8,420.00</td>\n",
              "      <td>8,481.00</td>\n",
              "      <td>3,548,054.00</td>\n",
              "      <td>1,862.99</td>\n",
              "      <td>0.04</td>\n",
              "    </tr>\n",
              "  </tbody>\n",
              "</table>\n",
              "</div>"
            ],
            "text/plain": [
              "              date state  ... confirmed_per_100k_inhabitants death_rate\n",
              "970789  2020-09-03    SP  ...                       1,844.37       0.03\n",
              "760270  2020-08-31    RS  ...                       1,791.93       0.01\n",
              "351853  2020-10-22    MG  ...                         243.52       0.06\n",
              "938381  2020-06-10    SP  ...                          59.60       0.00\n",
              "953668  2020-09-24    SP  ...                       1,862.99       0.04\n",
              "\n",
              "[5 rows x 13 columns]"
            ]
          },
          "metadata": {
            "tags": []
          },
          "execution_count": 5
        }
      ]
    },
    {
      "cell_type": "code",
      "metadata": {
        "id": "6k7uF_nzXCvf",
        "outputId": "39e7a1ac-4849-450a-c0f4-cd0c032170be",
        "colab": {
          "base_uri": "https://localhost:8080/"
        }
      },
      "source": [
        "#Existem informações nulas no dataset de acordo com info, nos campos: city, estimated_population_2019, etimated_population, city_ibge_code and confirmed_per_100k_inhabitants.\n",
        "dados.info()"
      ],
      "execution_count": 6,
      "outputs": [
        {
          "output_type": "stream",
          "text": [
            "<class 'pandas.core.frame.DataFrame'>\n",
            "RangeIndex: 974824 entries, 0 to 974823\n",
            "Data columns (total 13 columns):\n",
            " #   Column                          Non-Null Count   Dtype  \n",
            "---  ------                          --------------   -----  \n",
            " 0   date                            974824 non-null  object \n",
            " 1   state                           974824 non-null  object \n",
            " 2   city                            968230 non-null  object \n",
            " 3   place_type                      974824 non-null  object \n",
            " 4   confirmed                       974824 non-null  int64  \n",
            " 5   deaths                          974824 non-null  int64  \n",
            " 6   order_for_place                 974824 non-null  int64  \n",
            " 7   is_last                         974824 non-null  bool   \n",
            " 8   estimated_population_2019       971052 non-null  float64\n",
            " 9   estimated_population            971052 non-null  float64\n",
            " 10  city_ibge_code                  971052 non-null  float64\n",
            " 11  confirmed_per_100k_inhabitants  957481 non-null  float64\n",
            " 12  death_rate                      974824 non-null  float64\n",
            "dtypes: bool(1), float64(5), int64(3), object(4)\n",
            "memory usage: 90.2+ MB\n"
          ],
          "name": "stdout"
        }
      ]
    },
    {
      "cell_type": "code",
      "metadata": {
        "id": "a0E3j7eOnHvo"
      },
      "source": [
        "#Alterando o tipo da coluna date apra Datetime.\n",
        "dados['date'] = pd.to_datetime(dados['date'],yearfirst=True) "
      ],
      "execution_count": 7,
      "outputs": []
    },
    {
      "cell_type": "code",
      "metadata": {
        "id": "8SEDnyGSOo95",
        "outputId": "8db1b2c7-af9a-430a-f076-6a451d6b731b",
        "colab": {
          "base_uri": "https://localhost:8080/"
        }
      },
      "source": [
        "#Conferindo a alteração do tipo do campo date.\n",
        "dados.info()"
      ],
      "execution_count": 8,
      "outputs": [
        {
          "output_type": "stream",
          "text": [
            "<class 'pandas.core.frame.DataFrame'>\n",
            "RangeIndex: 974824 entries, 0 to 974823\n",
            "Data columns (total 13 columns):\n",
            " #   Column                          Non-Null Count   Dtype         \n",
            "---  ------                          --------------   -----         \n",
            " 0   date                            974824 non-null  datetime64[ns]\n",
            " 1   state                           974824 non-null  object        \n",
            " 2   city                            968230 non-null  object        \n",
            " 3   place_type                      974824 non-null  object        \n",
            " 4   confirmed                       974824 non-null  int64         \n",
            " 5   deaths                          974824 non-null  int64         \n",
            " 6   order_for_place                 974824 non-null  int64         \n",
            " 7   is_last                         974824 non-null  bool          \n",
            " 8   estimated_population_2019       971052 non-null  float64       \n",
            " 9   estimated_population            971052 non-null  float64       \n",
            " 10  city_ibge_code                  971052 non-null  float64       \n",
            " 11  confirmed_per_100k_inhabitants  957481 non-null  float64       \n",
            " 12  death_rate                      974824 non-null  float64       \n",
            "dtypes: bool(1), datetime64[ns](1), float64(5), int64(3), object(3)\n",
            "memory usage: 90.2+ MB\n"
          ],
          "name": "stdout"
        }
      ]
    },
    {
      "cell_type": "code",
      "metadata": {
        "id": "vrm7YphnOrqx",
        "outputId": "315e746a-cb27-4fff-8d7f-81f9e986c680",
        "colab": {
          "base_uri": "https://localhost:8080/"
        }
      },
      "source": [
        "#De acordo com a documentação irei excluir a coluna \"estimated_population_2019\", por possuir valores desatualizados.\n",
        "dados = dados.drop('estimated_population_2019', axis=1)\n",
        "dados.info()"
      ],
      "execution_count": 11,
      "outputs": [
        {
          "output_type": "stream",
          "text": [
            "<class 'pandas.core.frame.DataFrame'>\n",
            "RangeIndex: 974824 entries, 0 to 974823\n",
            "Data columns (total 12 columns):\n",
            " #   Column                          Non-Null Count   Dtype         \n",
            "---  ------                          --------------   -----         \n",
            " 0   date                            974824 non-null  datetime64[ns]\n",
            " 1   state                           974824 non-null  object        \n",
            " 2   city                            968230 non-null  object        \n",
            " 3   place_type                      974824 non-null  object        \n",
            " 4   confirmed                       974824 non-null  int64         \n",
            " 5   deaths                          974824 non-null  int64         \n",
            " 6   order_for_place                 974824 non-null  int64         \n",
            " 7   is_last                         974824 non-null  bool          \n",
            " 8   estimated_population            971052 non-null  float64       \n",
            " 9   city_ibge_code                  971052 non-null  float64       \n",
            " 10  confirmed_per_100k_inhabitants  957481 non-null  float64       \n",
            " 11  death_rate                      974824 non-null  float64       \n",
            "dtypes: bool(1), datetime64[ns](1), float64(4), int64(3), object(3)\n",
            "memory usage: 82.7+ MB\n"
          ],
          "name": "stdout"
        }
      ]
    },
    {
      "cell_type": "code",
      "metadata": {
        "id": "1wOc-dSFSmtF"
      },
      "source": [
        "#Adcionando coluna de número de óbitos por 100.000 habitantes\n",
        "dados['deaths_covid_per_100K_inhabitants'] = dados['deaths']/(dados['estimated_population']/100000)"
      ],
      "execution_count": 12,
      "outputs": []
    },
    {
      "cell_type": "code",
      "metadata": {
        "id": "KUVTuJvNX-2z",
        "outputId": "1443dadb-74a6-4974-df27-ca69c15d746f",
        "colab": {
          "base_uri": "https://localhost:8080/",
          "height": 299
        }
      },
      "source": [
        "dados.head()"
      ],
      "execution_count": 13,
      "outputs": [
        {
          "output_type": "execute_result",
          "data": {
            "text/html": [
              "<div>\n",
              "<style scoped>\n",
              "    .dataframe tbody tr th:only-of-type {\n",
              "        vertical-align: middle;\n",
              "    }\n",
              "\n",
              "    .dataframe tbody tr th {\n",
              "        vertical-align: top;\n",
              "    }\n",
              "\n",
              "    .dataframe thead th {\n",
              "        text-align: right;\n",
              "    }\n",
              "</style>\n",
              "<table border=\"1\" class=\"dataframe\">\n",
              "  <thead>\n",
              "    <tr style=\"text-align: right;\">\n",
              "      <th></th>\n",
              "      <th>date</th>\n",
              "      <th>state</th>\n",
              "      <th>city</th>\n",
              "      <th>place_type</th>\n",
              "      <th>confirmed</th>\n",
              "      <th>deaths</th>\n",
              "      <th>order_for_place</th>\n",
              "      <th>is_last</th>\n",
              "      <th>estimated_population</th>\n",
              "      <th>city_ibge_code</th>\n",
              "      <th>confirmed_per_100k_inhabitants</th>\n",
              "      <th>death_rate</th>\n",
              "      <th>deaths_covid_per_100K_inhabitants</th>\n",
              "    </tr>\n",
              "  </thead>\n",
              "  <tbody>\n",
              "    <tr>\n",
              "      <th>0</th>\n",
              "      <td>2020-11-15</td>\n",
              "      <td>AP</td>\n",
              "      <td>NaN</td>\n",
              "      <td>state</td>\n",
              "      <td>54979</td>\n",
              "      <td>777</td>\n",
              "      <td>236</td>\n",
              "      <td>True</td>\n",
              "      <td>861,773.00</td>\n",
              "      <td>16.00</td>\n",
              "      <td>6,379.75</td>\n",
              "      <td>0.01</td>\n",
              "      <td>90.16</td>\n",
              "    </tr>\n",
              "    <tr>\n",
              "      <th>1</th>\n",
              "      <td>2020-11-14</td>\n",
              "      <td>AP</td>\n",
              "      <td>NaN</td>\n",
              "      <td>state</td>\n",
              "      <td>54838</td>\n",
              "      <td>777</td>\n",
              "      <td>235</td>\n",
              "      <td>False</td>\n",
              "      <td>861,773.00</td>\n",
              "      <td>16.00</td>\n",
              "      <td>6,363.39</td>\n",
              "      <td>0.01</td>\n",
              "      <td>90.16</td>\n",
              "    </tr>\n",
              "    <tr>\n",
              "      <th>2</th>\n",
              "      <td>2020-11-13</td>\n",
              "      <td>AP</td>\n",
              "      <td>NaN</td>\n",
              "      <td>state</td>\n",
              "      <td>54417</td>\n",
              "      <td>774</td>\n",
              "      <td>234</td>\n",
              "      <td>False</td>\n",
              "      <td>861,773.00</td>\n",
              "      <td>16.00</td>\n",
              "      <td>6,314.54</td>\n",
              "      <td>0.01</td>\n",
              "      <td>89.81</td>\n",
              "    </tr>\n",
              "    <tr>\n",
              "      <th>3</th>\n",
              "      <td>2020-11-12</td>\n",
              "      <td>AP</td>\n",
              "      <td>NaN</td>\n",
              "      <td>state</td>\n",
              "      <td>54056</td>\n",
              "      <td>771</td>\n",
              "      <td>233</td>\n",
              "      <td>False</td>\n",
              "      <td>861,773.00</td>\n",
              "      <td>16.00</td>\n",
              "      <td>6,272.65</td>\n",
              "      <td>0.01</td>\n",
              "      <td>89.47</td>\n",
              "    </tr>\n",
              "    <tr>\n",
              "      <th>4</th>\n",
              "      <td>2020-11-11</td>\n",
              "      <td>AP</td>\n",
              "      <td>NaN</td>\n",
              "      <td>state</td>\n",
              "      <td>53790</td>\n",
              "      <td>770</td>\n",
              "      <td>232</td>\n",
              "      <td>False</td>\n",
              "      <td>861,773.00</td>\n",
              "      <td>16.00</td>\n",
              "      <td>6,241.78</td>\n",
              "      <td>0.01</td>\n",
              "      <td>89.35</td>\n",
              "    </tr>\n",
              "  </tbody>\n",
              "</table>\n",
              "</div>"
            ],
            "text/plain": [
              "        date state  ... death_rate deaths_covid_per_100K_inhabitants\n",
              "0 2020-11-15    AP  ...       0.01                             90.16\n",
              "1 2020-11-14    AP  ...       0.01                             90.16\n",
              "2 2020-11-13    AP  ...       0.01                             89.81\n",
              "3 2020-11-12    AP  ...       0.01                             89.47\n",
              "4 2020-11-11    AP  ...       0.01                             89.35\n",
              "\n",
              "[5 rows x 13 columns]"
            ]
          },
          "metadata": {
            "tags": []
          },
          "execution_count": 13
        }
      ]
    },
    {
      "cell_type": "code",
      "metadata": {
        "id": "b5AAQsa8YB8G"
      },
      "source": [
        "dados['death_rate'] = pd.to"
      ],
      "execution_count": null,
      "outputs": []
    }
  ]
}